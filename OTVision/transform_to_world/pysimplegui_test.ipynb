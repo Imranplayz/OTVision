{
 "metadata": {
  "language_info": {
   "codemirror_mode": {
    "name": "ipython",
    "version": 3
   },
   "file_extension": ".py",
   "mimetype": "text/x-python",
   "name": "python",
   "nbconvert_exporter": "python",
   "pygments_lexer": "ipython3",
   "version": "3.7.4-final"
  },
  "orig_nbformat": 2,
  "kernelspec": {
   "name": "python3",
   "display_name": "Python 3"
  }
 },
 "nbformat": 4,
 "nbformat_minor": 2,
 "cells": [
  {
   "cell_type": "code",
   "execution_count": 2,
   "metadata": {},
   "outputs": [],
   "source": [
    "import PySimpleGUI as sg"
   ]
  },
  {
   "cell_type": "code",
   "execution_count": 7,
   "metadata": {},
   "outputs": [],
   "source": [
    "sg.theme_previewer()"
   ]
  },
  {
   "cell_type": "code",
   "execution_count": 8,
   "metadata": {},
   "outputs": [
    {
     "output_type": "stream",
     "name": "stdout",
     "text": [
      "You clicked Submit\nYou chose filenames C:/Users/Baerwolff/Desktop/Lenovo_Arbeit/2020-02-20_Validierungsmessung_Radeberg/homography/XX_Alt/vlcsnap-2020-04-22-07h35m08s732_huetchen.npy and C:/Users/Baerwolff/Desktop/Lenovo_Arbeit/2020-02-20_Validierungsmessung_Radeberg/homography/XX_Alt/vlcsnap-2020-04-22-07h35m08s732_huetchen.txt\n"
     ]
    }
   ],
   "source": [
    "\n",
    "sg.theme('Light Blue 2')\n",
    "\n",
    "layout = [[sg.Text('Enter 2 files to comare')],\n",
    "          [sg.Text('File 1', size=(8, 1)), sg.Input(), sg.FileBrowse()],\n",
    "          [sg.Text('File 2', size=(8, 1)), sg.Input(), sg.FileBrowse()],\n",
    "          [sg.Submit(), sg.Cancel()]]\n",
    "\n",
    "window = sg.Window('File Compare', layout)\n",
    "\n",
    "event, values = window.read()\n",
    "window.close()\n",
    "print(f'You clicked {event}')\n",
    "print(f'You chose filenames {values[0]} and {values[1]}')"
   ]
  },
  {
   "cell_type": "code",
   "execution_count": 9,
   "metadata": {},
   "outputs": [
    {
     "output_type": "stream",
     "name": "stdout",
     "text": [
      "You chose: C:/Users/Baerwolff/Desktop/Lenovo_Arbeit/2020-02-20_Validierungsmessung_Radeberg/homography/XX_Alt/vlcsnap-2020-04-22-07h35m08s732_huetchen.npy\n"
     ]
    }
   ],
   "source": [
    "\n",
    "sg.theme('Dark Red')\n",
    "\n",
    "layout = [[sg.Text('Browse to a file')],\n",
    "          [sg.Input(key='-FILE-', visible=False, enable_events=True), sg.FileBrowse()]]\n",
    "\n",
    "event, values = sg.Window('File Compare', layout).read(close=True)\n",
    "\n",
    "print(f'You chose: {values[\"-FILE-\"]}')"
   ]
  },
  {
   "cell_type": "code",
   "execution_count": null,
   "metadata": {},
   "outputs": [],
   "source": []
  }
 ]
}